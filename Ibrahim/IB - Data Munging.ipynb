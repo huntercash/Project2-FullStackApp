{
 "cells": [
  {
   "cell_type": "code",
   "execution_count": 1,
   "metadata": {},
   "outputs": [],
   "source": [
    "from bs4 import BeautifulSoup\n",
    "import requests\n",
    "from splinter import Browser\n",
    "import pandas as pd"
   ]
  },
  {
   "cell_type": "code",
   "execution_count": 2,
   "metadata": {},
   "outputs": [],
   "source": [
    "edu_data_url = \"https://www.experian.com/blogs/ask-experian/state-of-student-loan-debt/#s6\""
   ]
  },
  {
   "cell_type": "code",
   "execution_count": 184,
   "metadata": {},
   "outputs": [],
   "source": [
    "student_loan_data = pd.read_html(edu_data_url)\n",
    "# student_loan_data"
   ]
  },
  {
   "cell_type": "code",
   "execution_count": 192,
   "metadata": {},
   "outputs": [],
   "source": [
    "student_loan_debt_since_09 = student_loan_data[0]\n",
    "student_loan_debt_since_09 = student_loan_debt_since_09.rename(columns={\"Student Loan Debt Since 2009(in trillions)\": \"Year\",\n",
    "                                 \"Unnamed: 1\": \"Amount(in trillions)\"})\n",
    "\n",
    "# student_loan_debt_since_09.head()\n"
   ]
  },
  {
   "cell_type": "code",
   "execution_count": 193,
   "metadata": {},
   "outputs": [
    {
     "data": {
      "text/plain": [
       "Year                      int64\n",
       "Amount(in trillions)    float64\n",
       "dtype: object"
      ]
     },
     "execution_count": 193,
     "metadata": {},
     "output_type": "execute_result"
    }
   ],
   "source": [
    "student_loan_debt_since_09 = student_loan_debt_since_09[student_loan_debt_since_09.columns[0:]]\\\n",
    "    .replace('[\\$,%]', '', regex=True).apply(pd.to_numeric) \n",
    "student_loan_debt_since_09.dtypes\n"
   ]
  },
  {
   "cell_type": "code",
   "execution_count": 194,
   "metadata": {},
   "outputs": [
    {
     "data": {
      "text/html": [
       "<div>\n",
       "<style scoped>\n",
       "    .dataframe tbody tr th:only-of-type {\n",
       "        vertical-align: middle;\n",
       "    }\n",
       "\n",
       "    .dataframe tbody tr th {\n",
       "        vertical-align: top;\n",
       "    }\n",
       "\n",
       "    .dataframe thead th {\n",
       "        text-align: right;\n",
       "    }\n",
       "</style>\n",
       "<table border=\"1\" class=\"dataframe\">\n",
       "  <thead>\n",
       "    <tr style=\"text-align: right;\">\n",
       "      <th></th>\n",
       "      <th>Year</th>\n",
       "      <th>Amount(in trillions)</th>\n",
       "    </tr>\n",
       "  </thead>\n",
       "  <tbody>\n",
       "    <tr>\n",
       "      <th>0</th>\n",
       "      <td>2019</td>\n",
       "      <td>1.41</td>\n",
       "    </tr>\n",
       "    <tr>\n",
       "      <th>1</th>\n",
       "      <td>2018</td>\n",
       "      <td>1.33</td>\n",
       "    </tr>\n",
       "    <tr>\n",
       "      <th>2</th>\n",
       "      <td>2017</td>\n",
       "      <td>1.28</td>\n",
       "    </tr>\n",
       "    <tr>\n",
       "      <th>3</th>\n",
       "      <td>2016</td>\n",
       "      <td>1.17</td>\n",
       "    </tr>\n",
       "    <tr>\n",
       "      <th>4</th>\n",
       "      <td>2015</td>\n",
       "      <td>1.13</td>\n",
       "    </tr>\n",
       "  </tbody>\n",
       "</table>\n",
       "</div>"
      ],
      "text/plain": [
       "   Year  Amount(in trillions)\n",
       "0  2019                  1.41\n",
       "1  2018                  1.33\n",
       "2  2017                  1.28\n",
       "3  2016                  1.17\n",
       "4  2015                  1.13"
      ]
     },
     "execution_count": 194,
     "metadata": {},
     "output_type": "execute_result"
    }
   ],
   "source": [
    "student_loan_debt_since_09.head()"
   ]
  },
  {
   "cell_type": "code",
   "execution_count": 229,
   "metadata": {},
   "outputs": [],
   "source": [
    "student_loan_debt_since_09.to_csv('clean_data/stu_loan_debt_since_09.csv', index=True)"
   ]
  },
  {
   "cell_type": "code",
   "execution_count": 225,
   "metadata": {},
   "outputs": [
    {
     "data": {
      "text/html": [
       "<div>\n",
       "<style scoped>\n",
       "    .dataframe tbody tr th:only-of-type {\n",
       "        vertical-align: middle;\n",
       "    }\n",
       "\n",
       "    .dataframe tbody tr th {\n",
       "        vertical-align: top;\n",
       "    }\n",
       "\n",
       "    .dataframe thead th {\n",
       "        text-align: right;\n",
       "    }\n",
       "</style>\n",
       "<table border=\"1\" class=\"dataframe\">\n",
       "  <thead>\n",
       "    <tr style=\"text-align: right;\">\n",
       "      <th></th>\n",
       "      <th>Loan Type</th>\n",
       "      <th>Amount (in trillions)</th>\n",
       "    </tr>\n",
       "  </thead>\n",
       "  <tbody>\n",
       "    <tr>\n",
       "      <th>0</th>\n",
       "      <td>Mortgage</td>\n",
       "      <td>$9.52</td>\n",
       "    </tr>\n",
       "    <tr>\n",
       "      <th>1</th>\n",
       "      <td>Student Loan</td>\n",
       "      <td>$1.41</td>\n",
       "    </tr>\n",
       "    <tr>\n",
       "      <th>2</th>\n",
       "      <td>Auto Loan &amp; Lease</td>\n",
       "      <td>$1.28</td>\n",
       "    </tr>\n",
       "    <tr>\n",
       "      <th>3</th>\n",
       "      <td>Credit Card</td>\n",
       "      <td>$.81</td>\n",
       "    </tr>\n",
       "    <tr>\n",
       "      <th>4</th>\n",
       "      <td>Personal Loan</td>\n",
       "      <td>$.30</td>\n",
       "    </tr>\n",
       "    <tr>\n",
       "      <th>5</th>\n",
       "      <td>Retail Card</td>\n",
       "      <td>$.09</td>\n",
       "    </tr>\n",
       "  </tbody>\n",
       "</table>\n",
       "</div>"
      ],
      "text/plain": [
       "           Loan Type Amount (in trillions)\n",
       "0           Mortgage                 $9.52\n",
       "1       Student Loan                 $1.41\n",
       "2  Auto Loan & Lease                 $1.28\n",
       "3        Credit Card                  $.81\n",
       "4      Personal Loan                  $.30\n",
       "5        Retail Card                  $.09"
      ]
     },
     "execution_count": 225,
     "metadata": {},
     "output_type": "execute_result"
    }
   ],
   "source": [
    "us_debt_bal_by_type = student_loan_data[1]\n",
    "us_debt_bal_by_type = us_debt_bal_by_type.rename(columns={\"U.S. Consumer Debt Balances by Credit Product(in trillions)\": \"Loan Type\", \n",
    "                                                          \"Unnamed: 1\": \"Amount (in trillions)\"})\n",
    "us_debt_bal_by_type\n"
   ]
  },
  {
   "cell_type": "code",
   "execution_count": 227,
   "metadata": {},
   "outputs": [],
   "source": [
    "us_debt_bal_by_type.to_csv('clean_data/us_debt_bal_by_type.csv', index=True)"
   ]
  },
  {
   "cell_type": "code",
   "execution_count": 198,
   "metadata": {},
   "outputs": [
    {
     "data": {
      "text/html": [
       "<div>\n",
       "<style scoped>\n",
       "    .dataframe tbody tr th:only-of-type {\n",
       "        vertical-align: middle;\n",
       "    }\n",
       "\n",
       "    .dataframe tbody tr th {\n",
       "        vertical-align: top;\n",
       "    }\n",
       "\n",
       "    .dataframe thead th {\n",
       "        text-align: right;\n",
       "    }\n",
       "</style>\n",
       "<table border=\"1\" class=\"dataframe\">\n",
       "  <thead>\n",
       "    <tr style=\"text-align: right;\">\n",
       "      <th></th>\n",
       "      <th>Details</th>\n",
       "      <th>Amount</th>\n",
       "    </tr>\n",
       "  </thead>\n",
       "  <tbody>\n",
       "    <tr>\n",
       "      <th>0</th>\n",
       "      <td>Average student loan debt per borrower</td>\n",
       "      <td>$35,359</td>\n",
       "    </tr>\n",
       "    <tr>\n",
       "      <th>1</th>\n",
       "      <td>Total student loan debt</td>\n",
       "      <td>$1.4 trillion</td>\n",
       "    </tr>\n",
       "    <tr>\n",
       "      <th>2</th>\n",
       "      <td>Percentage of consumers with a student loan</td>\n",
       "      <td>14.4%</td>\n",
       "    </tr>\n",
       "    <tr>\n",
       "      <th>3</th>\n",
       "      <td>Washington, D.C., had the highest average stud...</td>\n",
       "      <td>$55,882</td>\n",
       "    </tr>\n",
       "    <tr>\n",
       "      <th>4</th>\n",
       "      <td>South Dakota had the lowest average student lo...</td>\n",
       "      <td>$28,868</td>\n",
       "    </tr>\n",
       "    <tr>\n",
       "      <th>5</th>\n",
       "      <td>Average tuition and fees for a public four-yea...</td>\n",
       "      <td>$10,230</td>\n",
       "    </tr>\n",
       "    <tr>\n",
       "      <th>6</th>\n",
       "      <td>Average tuition and fees for a public four-yea...</td>\n",
       "      <td>$26,290</td>\n",
       "    </tr>\n",
       "    <tr>\n",
       "      <th>7</th>\n",
       "      <td>Average tuition for a private nonprofit four-y...</td>\n",
       "      <td>$35,830</td>\n",
       "    </tr>\n",
       "  </tbody>\n",
       "</table>\n",
       "</div>"
      ],
      "text/plain": [
       "                                             Details         Amount\n",
       "0             Average student loan debt per borrower        $35,359\n",
       "1                            Total student loan debt  $1.4 trillion\n",
       "2        Percentage of consumers with a student loan          14.4%\n",
       "3  Washington, D.C., had the highest average stud...        $55,882\n",
       "4  South Dakota had the lowest average student lo...        $28,868\n",
       "5  Average tuition and fees for a public four-yea...        $10,230\n",
       "6  Average tuition and fees for a public four-yea...        $26,290\n",
       "7  Average tuition for a private nonprofit four-y...        $35,830"
      ]
     },
     "execution_count": 198,
     "metadata": {},
     "output_type": "execute_result"
    }
   ],
   "source": [
    "sl_debt_snapshot = student_loan_data[2]\n",
    "sl_debt_snapshot = sl_debt_snapshot.rename(columns={\"Student Loan Debt Snapshot\": \"Details\", \n",
    "                                \"Unnamed: 1\": \"Amount\"})\n",
    "sl_debt_snapshot"
   ]
  },
  {
   "cell_type": "code",
   "execution_count": 228,
   "metadata": {},
   "outputs": [],
   "source": [
    "sl_debt_snapshot.to_csv('clean_data/stu_loan_debt_snapshot.csv', index=True)"
   ]
  },
  {
   "cell_type": "code",
   "execution_count": 199,
   "metadata": {},
   "outputs": [],
   "source": [
    "avg_sl_debt_by_state = student_loan_data[3]\n",
    "# avg_sl_debt_by_state.head()"
   ]
  },
  {
   "cell_type": "code",
   "execution_count": 67,
   "metadata": {},
   "outputs": [],
   "source": [
    "# avg_sl_debt_by_state.to_csv(\"Average Student Loan Debt by State.csv\")"
   ]
  },
  {
   "cell_type": "code",
   "execution_count": 200,
   "metadata": {},
   "outputs": [
    {
     "data": {
      "text/plain": [
       "Index(['Unnamed: 0', 'State', '2018', '2019', '% Change'], dtype='object')"
      ]
     },
     "execution_count": 200,
     "metadata": {},
     "output_type": "execute_result"
    }
   ],
   "source": [
    "avg_sl_debt_by_state = pd.read_csv('Average Student Loan Debt by State.csv')\n",
    "avg_sl_debt_by_state.columns"
   ]
  },
  {
   "cell_type": "code",
   "execution_count": 201,
   "metadata": {},
   "outputs": [],
   "source": [
    "avg_sl_debt_by_state = avg_sl_debt_by_state.drop(columns=['Unnamed: 0'])\n"
   ]
  },
  {
   "cell_type": "code",
   "execution_count": 202,
   "metadata": {},
   "outputs": [],
   "source": [
    "avg_sl_debt_by_state = avg_sl_debt_by_state[avg_sl_debt_by_state.columns[0:]]\\\n",
    "    .replace('[\\$,%]', '', regex=True)"
   ]
  },
  {
   "cell_type": "code",
   "execution_count": 203,
   "metadata": {},
   "outputs": [
    {
     "data": {
      "text/plain": [
       "State        object\n",
       "2018        float64\n",
       "2019        float64\n",
       "% Change    float64\n",
       "dtype: object"
      ]
     },
     "execution_count": 203,
     "metadata": {},
     "output_type": "execute_result"
    }
   ],
   "source": [
    "avg_sl_debt_by_state[['2018', '2019', '% Change']]\\\n",
    "            = avg_sl_debt_by_state[['2018', '2019', '% Change']].apply(pd.to_numeric) \n",
    "avg_sl_debt_by_state.dtypes "
   ]
  },
  {
   "cell_type": "code",
   "execution_count": 204,
   "metadata": {},
   "outputs": [
    {
     "data": {
      "text/html": [
       "<div>\n",
       "<style scoped>\n",
       "    .dataframe tbody tr th:only-of-type {\n",
       "        vertical-align: middle;\n",
       "    }\n",
       "\n",
       "    .dataframe tbody tr th {\n",
       "        vertical-align: top;\n",
       "    }\n",
       "\n",
       "    .dataframe thead th {\n",
       "        text-align: right;\n",
       "    }\n",
       "</style>\n",
       "<table border=\"1\" class=\"dataframe\">\n",
       "  <thead>\n",
       "    <tr style=\"text-align: right;\">\n",
       "      <th></th>\n",
       "      <th>State</th>\n",
       "      <th>2018</th>\n",
       "      <th>2019</th>\n",
       "      <th>% Change</th>\n",
       "    </tr>\n",
       "  </thead>\n",
       "  <tbody>\n",
       "    <tr>\n",
       "      <th>0</th>\n",
       "      <td>Alabama</td>\n",
       "      <td>33742.0</td>\n",
       "      <td>35674.0</td>\n",
       "      <td>5.7</td>\n",
       "    </tr>\n",
       "    <tr>\n",
       "      <th>1</th>\n",
       "      <td>Alaska</td>\n",
       "      <td>30085.0</td>\n",
       "      <td>32096.0</td>\n",
       "      <td>6.7</td>\n",
       "    </tr>\n",
       "    <tr>\n",
       "      <th>2</th>\n",
       "      <td>Arizona</td>\n",
       "      <td>32705.0</td>\n",
       "      <td>34740.0</td>\n",
       "      <td>6.2</td>\n",
       "    </tr>\n",
       "    <tr>\n",
       "      <th>3</th>\n",
       "      <td>Arkansas</td>\n",
       "      <td>30345.0</td>\n",
       "      <td>32203.0</td>\n",
       "      <td>6.1</td>\n",
       "    </tr>\n",
       "    <tr>\n",
       "      <th>4</th>\n",
       "      <td>California</td>\n",
       "      <td>35238.0</td>\n",
       "      <td>37468.0</td>\n",
       "      <td>6.3</td>\n",
       "    </tr>\n",
       "  </tbody>\n",
       "</table>\n",
       "</div>"
      ],
      "text/plain": [
       "        State     2018     2019  % Change\n",
       "0     Alabama  33742.0  35674.0       5.7\n",
       "1      Alaska  30085.0  32096.0       6.7\n",
       "2     Arizona  32705.0  34740.0       6.2\n",
       "3    Arkansas  30345.0  32203.0       6.1\n",
       "4  California  35238.0  37468.0       6.3"
      ]
     },
     "execution_count": 204,
     "metadata": {},
     "output_type": "execute_result"
    }
   ],
   "source": [
    "avg_sl_debt_by_state.head()"
   ]
  },
  {
   "cell_type": "code",
   "execution_count": 215,
   "metadata": {},
   "outputs": [],
   "source": [
    "avg_sl_debt_by_state.to_csv('clean_data/avg_sl_debt_by_state.csv', index=True)"
   ]
  },
  {
   "cell_type": "code",
   "execution_count": 205,
   "metadata": {},
   "outputs": [],
   "source": [
    "avg_debt_by_metro_area = student_loan_data[4]\n",
    "# avg_debt_by_metro_area.head()"
   ]
  },
  {
   "cell_type": "code",
   "execution_count": 148,
   "metadata": {},
   "outputs": [],
   "source": [
    "# avg_debt_by_metro_area.to_csv('avg_debt_by_metro_area.csv', index=True)\n"
   ]
  },
  {
   "cell_type": "code",
   "execution_count": 206,
   "metadata": {},
   "outputs": [],
   "source": [
    "avg_debt_by_metro_area = pd.read_csv('avg_debt_by_metro_area.csv')\n",
    "# avg_debt_by_metro_area.head()"
   ]
  },
  {
   "cell_type": "code",
   "execution_count": 207,
   "metadata": {},
   "outputs": [],
   "source": [
    "avg_debt_by_metro_area = avg_debt_by_metro_area.drop(columns=['Unnamed: 0'])"
   ]
  },
  {
   "cell_type": "code",
   "execution_count": 208,
   "metadata": {},
   "outputs": [
    {
     "data": {
      "text/plain": [
       "Rank            int64\n",
       "Metro Area     object\n",
       "2018            int64\n",
       "2019            int64\n",
       "% Change      float64\n",
       "dtype: object"
      ]
     },
     "execution_count": 208,
     "metadata": {},
     "output_type": "execute_result"
    }
   ],
   "source": [
    "avg_debt_by_metro_area = avg_debt_by_metro_area[avg_debt_by_metro_area.columns[0:]]\\\n",
    "    .replace('[\\$,%]', '', regex=True)\n",
    "avg_debt_by_metro_area[['Rank', '2018', '2019', '% Change']]\\\n",
    "            = avg_debt_by_metro_area[['Rank', '2018', '2019', '% Change']].apply(pd.to_numeric) \n",
    "avg_debt_by_metro_area.dtypes \n"
   ]
  },
  {
   "cell_type": "code",
   "execution_count": 212,
   "metadata": {},
   "outputs": [
    {
     "data": {
      "text/html": [
       "<div>\n",
       "<style scoped>\n",
       "    .dataframe tbody tr th:only-of-type {\n",
       "        vertical-align: middle;\n",
       "    }\n",
       "\n",
       "    .dataframe tbody tr th {\n",
       "        vertical-align: top;\n",
       "    }\n",
       "\n",
       "    .dataframe thead th {\n",
       "        text-align: right;\n",
       "    }\n",
       "</style>\n",
       "<table border=\"1\" class=\"dataframe\">\n",
       "  <thead>\n",
       "    <tr style=\"text-align: right;\">\n",
       "      <th></th>\n",
       "      <th>Rank</th>\n",
       "      <th>Metro Area</th>\n",
       "      <th>2018</th>\n",
       "      <th>2019</th>\n",
       "      <th>% Change</th>\n",
       "    </tr>\n",
       "  </thead>\n",
       "  <tbody>\n",
       "    <tr>\n",
       "      <th>0</th>\n",
       "      <td>1</td>\n",
       "      <td>Durham NC</td>\n",
       "      <td>43614</td>\n",
       "      <td>47955</td>\n",
       "      <td>10.0</td>\n",
       "    </tr>\n",
       "    <tr>\n",
       "      <th>1</th>\n",
       "      <td>2</td>\n",
       "      <td>Corvalis OR</td>\n",
       "      <td>42976</td>\n",
       "      <td>46164</td>\n",
       "      <td>7.4</td>\n",
       "    </tr>\n",
       "    <tr>\n",
       "      <th>2</th>\n",
       "      <td>3</td>\n",
       "      <td>Ann Arbor MI</td>\n",
       "      <td>43182</td>\n",
       "      <td>45668</td>\n",
       "      <td>5.8</td>\n",
       "    </tr>\n",
       "    <tr>\n",
       "      <th>3</th>\n",
       "      <td>4</td>\n",
       "      <td>Santa Cruz-Watsonville CA</td>\n",
       "      <td>43599</td>\n",
       "      <td>45396</td>\n",
       "      <td>4.1</td>\n",
       "    </tr>\n",
       "    <tr>\n",
       "      <th>4</th>\n",
       "      <td>5</td>\n",
       "      <td>Gainesville FL</td>\n",
       "      <td>40221</td>\n",
       "      <td>44508</td>\n",
       "      <td>10.7</td>\n",
       "    </tr>\n",
       "  </tbody>\n",
       "</table>\n",
       "</div>"
      ],
      "text/plain": [
       "   Rank                 Metro Area   2018   2019  % Change\n",
       "0     1                  Durham NC  43614  47955      10.0\n",
       "1     2                Corvalis OR  42976  46164       7.4\n",
       "2     3               Ann Arbor MI  43182  45668       5.8\n",
       "3     4  Santa Cruz-Watsonville CA  43599  45396       4.1\n",
       "4     5             Gainesville FL  40221  44508      10.7"
      ]
     },
     "execution_count": 212,
     "metadata": {},
     "output_type": "execute_result"
    }
   ],
   "source": [
    "avg_debt_by_metro_area.head()\n"
   ]
  },
  {
   "cell_type": "code",
   "execution_count": 214,
   "metadata": {},
   "outputs": [],
   "source": [
    "avg_debt_by_metro_area.to_csv('clean_data/avg_debt_by_metro_area.csv', index=True)"
   ]
  },
  {
   "cell_type": "code",
   "execution_count": null,
   "metadata": {},
   "outputs": [],
   "source": []
  }
 ],
 "metadata": {
  "kernelspec": {
   "display_name": "Python 3",
   "language": "python",
   "name": "python3"
  },
  "language_info": {
   "codemirror_mode": {
    "name": "ipython",
    "version": 3
   },
   "file_extension": ".py",
   "mimetype": "text/x-python",
   "name": "python",
   "nbconvert_exporter": "python",
   "pygments_lexer": "ipython3",
   "version": "3.7.2"
  }
 },
 "nbformat": 4,
 "nbformat_minor": 2
}
