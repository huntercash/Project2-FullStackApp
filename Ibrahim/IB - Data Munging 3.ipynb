{
 "cells": [
  {
   "cell_type": "code",
   "execution_count": 1,
   "metadata": {},
   "outputs": [],
   "source": [
    "import pandas as pd"
   ]
  },
  {
   "cell_type": "code",
   "execution_count": 2,
   "metadata": {},
   "outputs": [],
   "source": [
    "portfl_by_status = pd.ExcelFile('Data/PortfoliobyLoanStatus.xls')"
   ]
  },
  {
   "cell_type": "code",
   "execution_count": 3,
   "metadata": {},
   "outputs": [],
   "source": [
    "dl_df = pd.read_excel(portfl_by_status, 'Direct Loan')\n",
    "ffel_df = pd.read_excel(portfl_by_status, 'FFEL')\n",
    "ed_held_ffel_df = pd.read_excel(portfl_by_status, 'ED-Held FFEL')\n",
    "fed_mng_df = pd.read_excel(portfl_by_status, 'Federally Managed')\n"
   ]
  },
  {
   "cell_type": "code",
   "execution_count": 4,
   "metadata": {},
   "outputs": [],
   "source": [
    "dl_df = dl_df.groupby(['Year'])\n",
    "ffel_df = ffel_df.groupby(['Year'])\n",
    "ed_held_ffel_df = fed_mng_df.groupby(['Year'])\n",
    "fed_mng_df = fed_mng_df.groupby(['Year'])"
   ]
  },
  {
   "cell_type": "code",
   "execution_count": 5,
   "metadata": {},
   "outputs": [],
   "source": [
    "dl_df = dl_df.sum()\n",
    "ffel_df = ffel_df.sum()\n",
    "ed_held_ffel_df = ed_held_ffel_df.sum()\n",
    "fed_mng_df = fed_mng_df.sum()"
   ]
  },
  {
   "cell_type": "code",
   "execution_count": 6,
   "metadata": {},
   "outputs": [],
   "source": [
    "dl_df.to_csv('clean_data/dl_status.csv', index=True)\n",
    "ffel_df.to_csv('clean_data/ffel_status.csv', index=True)"
   ]
  },
  {
   "cell_type": "code",
   "execution_count": 7,
   "metadata": {},
   "outputs": [
    {
     "data": {
      "text/plain": [
       "Index(['In-School', 'In-school Recipients', 'Grace', 'Grace Recipients',\n",
       "       'Repayment', 'Repayment Recipients', 'Deferment',\n",
       "       'Deferment Recipients', 'Forbearance', 'Forbearance Recipients',\n",
       "       'Cumulative in Default', 'Cumulative in Default Recipients', 'Other',\n",
       "       'Other Recipients'],\n",
       "      dtype='object')"
      ]
     },
     "execution_count": 7,
     "metadata": {},
     "output_type": "execute_result"
    }
   ],
   "source": [
    "dl_df.columns"
   ]
  },
  {
   "cell_type": "code",
   "execution_count": null,
   "metadata": {},
   "outputs": [],
   "source": []
  }
 ],
 "metadata": {
  "kernelspec": {
   "display_name": "Python 3",
   "language": "python",
   "name": "python3"
  },
  "language_info": {
   "codemirror_mode": {
    "name": "ipython",
    "version": 3
   },
   "file_extension": ".py",
   "mimetype": "text/x-python",
   "name": "python",
   "nbconvert_exporter": "python",
   "pygments_lexer": "ipython3",
   "version": "3.7.2"
  }
 },
 "nbformat": 4,
 "nbformat_minor": 2
}
